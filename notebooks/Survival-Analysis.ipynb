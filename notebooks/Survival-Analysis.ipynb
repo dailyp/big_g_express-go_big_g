{
 "cells": [
  {
   "cell_type": "markdown",
   "id": "ahead-station",
   "metadata": {
    "toc": true
   },
   "source": [
    "<h1>Table of Contents<span class=\"tocSkip\"></span></h1>\n",
    "<div class=\"toc\"><ul class=\"toc-item\"><li><span><a href=\"#Data-Questions\" data-toc-modified-id=\"Data-Questions-1\"><span class=\"toc-item-num\">1&nbsp;&nbsp;</span>Data Questions</a></span></li><li><span><a href=\"#Things-to-do\" data-toc-modified-id=\"Things-to-do-2\"><span class=\"toc-item-num\">2&nbsp;&nbsp;</span>Things to do</a></span></li></ul></div>"
   ]
  },
  {
   "cell_type": "markdown",
   "id": "persistent-curve",
   "metadata": {},
   "source": [
    "## Data Questions"
   ]
  },
  {
   "cell_type": "markdown",
   "id": "stuck-spyware",
   "metadata": {},
   "source": [
    "- When will a derate happen? (Predict a time in the future for when a derate will happen)\n",
    "- What factors contribute to a derate?"
   ]
  },
  {
   "cell_type": "markdown",
   "id": "suspected-breeding",
   "metadata": {},
   "source": [
    "## Things to do"
   ]
  },
  {
   "cell_type": "markdown",
   "id": "disabled-season",
   "metadata": {},
   "source": [
    "- Get cleaned dataset\n",
    "- Define `duration` column\n",
    "- Define `censorship` column\n",
    "- Convert all categorical variables to dummified\n",
    "- Apply models\n",
    "  - Kaplan-Meieir\n",
    "  - Weibull\n",
    "  - Cox PH"
   ]
  },
  {
   "cell_type": "code",
   "execution_count": null,
   "id": "objective-qualification",
   "metadata": {},
   "outputs": [],
   "source": []
  }
 ],
 "metadata": {
  "kernelspec": {
   "display_name": "Python 3",
   "language": "python",
   "name": "python3"
  },
  "language_info": {
   "codemirror_mode": {
    "name": "ipython",
    "version": 3
   },
   "file_extension": ".py",
   "mimetype": "text/x-python",
   "name": "python",
   "nbconvert_exporter": "python",
   "pygments_lexer": "ipython3",
   "version": "3.8.8"
  },
  "toc": {
   "base_numbering": 1,
   "nav_menu": {},
   "number_sections": true,
   "sideBar": true,
   "skip_h1_title": true,
   "title_cell": "Table of Contents",
   "title_sidebar": "Contents",
   "toc_cell": true,
   "toc_position": {},
   "toc_section_display": true,
   "toc_window_display": true
  },
  "varInspector": {
   "cols": {
    "lenName": 16,
    "lenType": 16,
    "lenVar": 40
   },
   "kernels_config": {
    "python": {
     "delete_cmd_postfix": "",
     "delete_cmd_prefix": "del ",
     "library": "var_list.py",
     "varRefreshCmd": "print(var_dic_list())"
    },
    "r": {
     "delete_cmd_postfix": ") ",
     "delete_cmd_prefix": "rm(",
     "library": "var_list.r",
     "varRefreshCmd": "cat(var_dic_list()) "
    }
   },
   "types_to_exclude": [
    "module",
    "function",
    "builtin_function_or_method",
    "instance",
    "_Feature"
   ],
   "window_display": false
  }
 },
 "nbformat": 4,
 "nbformat_minor": 5
}
