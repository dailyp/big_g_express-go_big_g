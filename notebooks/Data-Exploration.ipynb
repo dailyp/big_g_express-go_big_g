{
 "cells": [
  {
   "cell_type": "markdown",
   "id": "stock-radius",
   "metadata": {
    "toc": true
   },
   "source": [
    "<h1>Table of Contents<span class=\"tocSkip\"></span></h1>\n",
    "<div class=\"toc\"><ul class=\"toc-item\"><li><span><a href=\"#Data-Dictionary\" data-toc-modified-id=\"Data-Dictionary-1\"><span class=\"toc-item-num\">1&nbsp;&nbsp;</span>Data Dictionary</a></span></li><li><span><a href=\"#Looking-At-service_fault_codes\" data-toc-modified-id=\"Looking-At-service_fault_codes-2\"><span class=\"toc-item-num\">2&nbsp;&nbsp;</span>Looking At <code>service_fault_codes</code></a></span><ul class=\"toc-item\"><li><span><a href=\"#Data-Cleanups-service_fault_codes\" data-toc-modified-id=\"Data-Cleanups-service_fault_codes-2.1\"><span class=\"toc-item-num\">2.1&nbsp;&nbsp;</span>Data Cleanups <code>service_fault_codes</code></a></span></li></ul></li><li><span><a href=\"#Looking-at-engine_faults\" data-toc-modified-id=\"Looking-at-engine_faults-3\"><span class=\"toc-item-num\">3&nbsp;&nbsp;</span>Looking at <code>engine_faults</code></a></span><ul class=\"toc-item\"><li><span><a href=\"#Data-Cleanups-engine_Faults\" data-toc-modified-id=\"Data-Cleanups-engine_Faults-3.1\"><span class=\"toc-item-num\">3.1&nbsp;&nbsp;</span>Data Cleanups <code>engine_Faults</code></a></span></li></ul></li><li><span><a href=\"#Looking-at-diagnostics\" data-toc-modified-id=\"Looking-at-diagnostics-4\"><span class=\"toc-item-num\">4&nbsp;&nbsp;</span>Looking at <code>diagnostics</code></a></span><ul class=\"toc-item\"><li><span><a href=\"#Data-Cleanups:-diagnostics\" data-toc-modified-id=\"Data-Cleanups:-diagnostics-4.1\"><span class=\"toc-item-num\">4.1&nbsp;&nbsp;</span>Data Cleanups: <code>diagnostics</code></a></span></li></ul></li><li><span><a href=\"#Looking-at-Service-Fault-Codes_1_0_0_167.xlsx\" data-toc-modified-id=\"Looking-at-Service-Fault-Codes_1_0_0_167.xlsx-5\"><span class=\"toc-item-num\">5&nbsp;&nbsp;</span>Looking at <code>Service Fault Codes_1_0_0_167.xlsx</code></a></span></li></ul></div>"
   ]
  },
  {
   "cell_type": "markdown",
   "id": "informal-multiple",
   "metadata": {},
   "source": [
    "**Libraries**"
   ]
  },
  {
   "cell_type": "code",
   "execution_count": 1,
   "id": "imported-equivalent",
   "metadata": {},
   "outputs": [],
   "source": [
    "import pandas as pd\n",
    "import matplotlib.pyplot as plt"
   ]
  },
  {
   "cell_type": "markdown",
   "id": "handmade-think",
   "metadata": {},
   "source": [
    "**Datasets**"
   ]
  },
  {
   "cell_type": "code",
   "execution_count": 2,
   "id": "express-angola",
   "metadata": {},
   "outputs": [
    {
     "name": "stderr",
     "output_type": "stream",
     "text": [
      "C:\\Users\\maeva\\anaconda3\\lib\\site-packages\\openpyxl\\worksheet\\_reader.py:312: UserWarning: Data Validation extension is not supported and will be removed\n",
      "  warn(msg)\n"
     ]
    }
   ],
   "source": [
    "service_fault_codes = pd.read_excel(\n",
    "    \"../data/Service Fault Codes_1_0_0_167.xlsx\", \n",
    "    sheet_name=\"Published 14602 App A core II\",\n",
    "    engine=\"openpyxl\"\n",
    ")\n",
    "engine_faults = pd.read_csv(\n",
    "    \"../data/J1939Faults.csv\", \n",
    "    low_memory=False\n",
    ")\n",
    "diagnostics = pd.read_csv(\n",
    "    \"../data/VehicleDiagnosticOnboardData.csv\", \n",
    "    low_memory=False\n",
    ")\n",
    "# This is old data: We can't use it\n",
    "# vehicle_makes = pd.read_excel(\n",
    "#     '../data/Vehicle_Make.xlsx', \n",
    "#     sheet_name='Sheet1',\n",
    "#     engine=\"openpyxl\"\n",
    "# )"
   ]
  },
  {
   "cell_type": "markdown",
   "id": "standard-suite",
   "metadata": {},
   "source": [
    "## Data Dictionary\n",
    "\n",
    "- `ESS_Id` – the event subscriber service event that contained the fault\n",
    "- `EventTimeStamp` – when the event took place\n",
    "- `eventDescription` – brief text of meaning of the code (not always present)\n",
    "- `actionDescription` – never seen this filled in\n",
    "- `ecuSoftwareVersion` – version string from the reporting vehicle computer system\n",
    "- `ecuSerialNumber` – Serial number of the reporting Engine Control Module (ECM)\n",
    "- `ecuModel` - Model of the reporting ECM\n",
    "- `ecuMake` – Manufacturer of the reporting ECM\n",
    "- `ecuSource` –\n",
    "- `spn` – Fault code being reported\n",
    "- `fmi` – Failure Mode associated with the Fault Code\n",
    "- `active` – whether the code is being set or being removed\n",
    "- `activeTransitionCount` – Number of times code has been set/unset\n",
    "- `faultValue` – never seen used\n",
    "- `EquipmentID` – Assigned truck number of the unit in question\n",
    "- `MCTNumber` – Communications Terminal assigned to the truck\n",
    "- `Latitude` – Latitude at time of event\n",
    "- `Longitude` – Longitude at time of event\n",
    "- `LocationTimeStamp` – Time latitude and longitude were obtained\n"
   ]
  },
  {
   "cell_type": "markdown",
   "id": "fresh-chile",
   "metadata": {},
   "source": [
    "## Looking At `service_fault_codes`"
   ]
  },
  {
   "cell_type": "code",
   "execution_count": 4,
   "id": "mature-fence",
   "metadata": {},
   "outputs": [
    {
     "data": {
      "text/plain": [
       "(7124, 14)"
      ]
     },
     "metadata": {},
     "output_type": "display_data"
    },
    {
     "data": {
      "text/html": [
       "<div>\n",
       "<style scoped>\n",
       "    .dataframe tbody tr th:only-of-type {\n",
       "        vertical-align: middle;\n",
       "    }\n",
       "\n",
       "    .dataframe tbody tr th {\n",
       "        vertical-align: top;\n",
       "    }\n",
       "\n",
       "    .dataframe thead th {\n",
       "        text-align: right;\n",
       "    }\n",
       "</style>\n",
       "<table border=\"1\" class=\"dataframe\">\n",
       "  <thead>\n",
       "    <tr style=\"text-align: right;\">\n",
       "      <th></th>\n",
       "      <th>Published in CES 14602</th>\n",
       "      <th>Cummins Fault Code</th>\n",
       "      <th>Revision</th>\n",
       "      <th>PID</th>\n",
       "      <th>SID</th>\n",
       "      <th>MID</th>\n",
       "      <th>J1587 FMI</th>\n",
       "      <th>SPN</th>\n",
       "      <th>J1939 FMI</th>\n",
       "      <th>J2012 Pcode</th>\n",
       "      <th>Lamp Color</th>\n",
       "      <th>Lamp Device</th>\n",
       "      <th>Cummins Description</th>\n",
       "      <th>Algorithm Description</th>\n",
       "    </tr>\n",
       "  </thead>\n",
       "  <tbody>\n",
       "    <tr>\n",
       "      <th>0</th>\n",
       "      <td>Y</td>\n",
       "      <td>111</td>\n",
       "      <td>167</td>\n",
       "      <td>Not Mapped</td>\n",
       "      <td>254</td>\n",
       "      <td>0</td>\n",
       "      <td>12</td>\n",
       "      <td>629</td>\n",
       "      <td>12</td>\n",
       "      <td>P0606</td>\n",
       "      <td>Red</td>\n",
       "      <td>Stop / Shutdown</td>\n",
       "      <td>Engine Control Module Critical Internal Failur...</td>\n",
       "      <td>Error internal to the ECM related to memory ha...</td>\n",
       "    </tr>\n",
       "    <tr>\n",
       "      <th>1</th>\n",
       "      <td>Y</td>\n",
       "      <td>112</td>\n",
       "      <td>167</td>\n",
       "      <td>Not Mapped</td>\n",
       "      <td>20</td>\n",
       "      <td>128</td>\n",
       "      <td>7</td>\n",
       "      <td>635</td>\n",
       "      <td>7</td>\n",
       "      <td>Not Mapped</td>\n",
       "      <td>Red</td>\n",
       "      <td>Stop / Shutdown</td>\n",
       "      <td>Engine Timing Actuator Driver Circuit - Mechan...</td>\n",
       "      <td>Mechanical failure in the engine timing actuat...</td>\n",
       "    </tr>\n",
       "    <tr>\n",
       "      <th>2</th>\n",
       "      <td>Y</td>\n",
       "      <td>113</td>\n",
       "      <td>167</td>\n",
       "      <td>Not Mapped</td>\n",
       "      <td>20</td>\n",
       "      <td>128</td>\n",
       "      <td>3</td>\n",
       "      <td>635</td>\n",
       "      <td>3</td>\n",
       "      <td>Not Mapped</td>\n",
       "      <td>Amber</td>\n",
       "      <td>Warning</td>\n",
       "      <td>Engine Timing Actuator Driver Circuit - Voltag...</td>\n",
       "      <td>High signal voltage detected at the engine tim...</td>\n",
       "    </tr>\n",
       "    <tr>\n",
       "      <th>3</th>\n",
       "      <td>Y</td>\n",
       "      <td>114</td>\n",
       "      <td>167</td>\n",
       "      <td>Not Mapped</td>\n",
       "      <td>20</td>\n",
       "      <td>128</td>\n",
       "      <td>4</td>\n",
       "      <td>635</td>\n",
       "      <td>4</td>\n",
       "      <td>Not Mapped</td>\n",
       "      <td>Amber</td>\n",
       "      <td>Warning</td>\n",
       "      <td>Engine Timing Actuator Driver Circuit - Voltag...</td>\n",
       "      <td>Low voltage detected at the engine timing actu...</td>\n",
       "    </tr>\n",
       "    <tr>\n",
       "      <th>4</th>\n",
       "      <td>Y</td>\n",
       "      <td>115</td>\n",
       "      <td>167</td>\n",
       "      <td>190</td>\n",
       "      <td>Not Mapped</td>\n",
       "      <td>Not Mapped</td>\n",
       "      <td>2</td>\n",
       "      <td>612</td>\n",
       "      <td>2</td>\n",
       "      <td>P0008</td>\n",
       "      <td>Red</td>\n",
       "      <td>Stop / Shutdown</td>\n",
       "      <td>Engine Magnetic Speed/Position Lost Both of Tw...</td>\n",
       "      <td>The ECM has detected that the primary and back...</td>\n",
       "    </tr>\n",
       "  </tbody>\n",
       "</table>\n",
       "</div>"
      ],
      "text/plain": [
       "  Published in CES 14602  Cummins Fault Code  Revision         PID  \\\n",
       "0                      Y                 111       167  Not Mapped   \n",
       "1                      Y                 112       167  Not Mapped   \n",
       "2                      Y                 113       167  Not Mapped   \n",
       "3                      Y                 114       167  Not Mapped   \n",
       "4                      Y                 115       167         190   \n",
       "\n",
       "          SID         MID  J1587 FMI  SPN  J1939 FMI J2012 Pcode Lamp Color  \\\n",
       "0         254           0         12  629         12       P0606        Red   \n",
       "1          20         128          7  635          7  Not Mapped        Red   \n",
       "2          20         128          3  635          3  Not Mapped      Amber   \n",
       "3          20         128          4  635          4  Not Mapped      Amber   \n",
       "4  Not Mapped  Not Mapped          2  612          2       P0008        Red   \n",
       "\n",
       "       Lamp Device                                Cummins Description  \\\n",
       "0  Stop / Shutdown  Engine Control Module Critical Internal Failur...   \n",
       "1  Stop / Shutdown  Engine Timing Actuator Driver Circuit - Mechan...   \n",
       "2          Warning  Engine Timing Actuator Driver Circuit - Voltag...   \n",
       "3          Warning  Engine Timing Actuator Driver Circuit - Voltag...   \n",
       "4  Stop / Shutdown  Engine Magnetic Speed/Position Lost Both of Tw...   \n",
       "\n",
       "                               Algorithm Description  \n",
       "0  Error internal to the ECM related to memory ha...  \n",
       "1  Mechanical failure in the engine timing actuat...  \n",
       "2  High signal voltage detected at the engine tim...  \n",
       "3  Low voltage detected at the engine timing actu...  \n",
       "4  The ECM has detected that the primary and back...  "
      ]
     },
     "metadata": {},
     "output_type": "display_data"
    },
    {
     "name": "stdout",
     "output_type": "stream",
     "text": [
      "<class 'pandas.core.frame.DataFrame'>\n",
      "RangeIndex: 7124 entries, 0 to 7123\n",
      "Data columns (total 14 columns):\n",
      " #   Column                  Non-Null Count  Dtype \n",
      "---  ------                  --------------  ----- \n",
      " 0   Published in CES 14602  7124 non-null   object\n",
      " 1   Cummins Fault Code      7124 non-null   int64 \n",
      " 2   Revision                7124 non-null   int64 \n",
      " 3   PID                     7124 non-null   object\n",
      " 4   SID                     7124 non-null   object\n",
      " 5   MID                     7124 non-null   object\n",
      " 6   J1587 FMI               7124 non-null   int64 \n",
      " 7   SPN                     7124 non-null   int64 \n",
      " 8   J1939 FMI               7124 non-null   int64 \n",
      " 9   J2012 Pcode             7124 non-null   object\n",
      " 10  Lamp Color              7124 non-null   object\n",
      " 11  Lamp Device             7124 non-null   object\n",
      " 12  Cummins Description     7124 non-null   object\n",
      " 13  Algorithm Description   2005 non-null   object\n",
      "dtypes: int64(5), object(9)\n",
      "memory usage: 779.3+ KB\n"
     ]
    },
    {
     "data": {
      "text/plain": [
       "None"
      ]
     },
     "metadata": {},
     "output_type": "display_data"
    }
   ],
   "source": [
    "display(service_fault_codes.shape)\n",
    "display(service_fault_codes.head(5))\n",
    "display(service_fault_codes.info())"
   ]
  },
  {
   "cell_type": "markdown",
   "id": "nasty-palmer",
   "metadata": {},
   "source": [
    "### Data Cleanups `service_fault_codes`"
   ]
  },
  {
   "cell_type": "code",
   "execution_count": null,
   "id": "certified-rogers",
   "metadata": {},
   "outputs": [],
   "source": [
    "# Rename all columns to format \"column_name\"\n",
    "engine_faults = engine_faults.rename(columns={\n",
    "    \"Published in CES 14602\": \"published_in_ces14602\",\n",
    "    \"Cummins Fault Code\": \"cummins_fault_code\",\n",
    "    \"Revision\": \"revision\",\n",
    "    \"PID\": \"p_id\",\n",
    "    \"SID\": \"s_id\",\n",
    "    \"MID\": \"m_id\",\n",
    "    \"J1587 FMI\": \"j1587_fmi\",\n",
    "    \"SPN\": \"spn\",\n",
    "    \"J1939 FMI\": \"j1939_fmi\",\n",
    "    \"J2012 Pcode\": \"j2012_pcode\",\n",
    "    \"Lamp Color\": \"lamp_color\",\n",
    "    \"Lamp Device\": \"lamp_device\",\n",
    "    \n",
    "    \n",
    "    \"EquipmentID\": \"equipment_id\",\n",
    "    \"MCTNumber\": \"mct_number\",\n",
    "    \"Latitude\": \"latitude\",\n",
    "    \"Longitude\": \"longitude\",\n",
    "    \"LocationTimeStamp\": \"location_timestamp\"\n",
    "})"
   ]
  },
  {
   "cell_type": "code",
   "execution_count": null,
   "id": "irish-restaurant",
   "metadata": {},
   "outputs": [],
   "source": []
  },
  {
   "cell_type": "code",
   "execution_count": null,
   "id": "stainless-roulette",
   "metadata": {},
   "outputs": [],
   "source": []
  },
  {
   "cell_type": "code",
   "execution_count": null,
   "id": "serious-processor",
   "metadata": {},
   "outputs": [],
   "source": []
  },
  {
   "cell_type": "code",
   "execution_count": null,
   "id": "eligible-joshua",
   "metadata": {},
   "outputs": [],
   "source": []
  },
  {
   "cell_type": "code",
   "execution_count": null,
   "id": "tested-order",
   "metadata": {},
   "outputs": [],
   "source": []
  },
  {
   "cell_type": "code",
   "execution_count": null,
   "id": "parliamentary-universal",
   "metadata": {},
   "outputs": [],
   "source": []
  },
  {
   "cell_type": "code",
   "execution_count": null,
   "id": "following-party",
   "metadata": {},
   "outputs": [],
   "source": []
  },
  {
   "cell_type": "code",
   "execution_count": null,
   "id": "contrary-philadelphia",
   "metadata": {},
   "outputs": [],
   "source": []
  },
  {
   "cell_type": "markdown",
   "id": "pending-armor",
   "metadata": {},
   "source": [
    "## Looking at `engine_faults`"
   ]
  },
  {
   "cell_type": "code",
   "execution_count": null,
   "id": "endangered-institution",
   "metadata": {},
   "outputs": [],
   "source": [
    "display(engine_faults.shape)\n",
    "display(engine_faults.head(2))\n",
    "display(engine_faults.info())"
   ]
  },
  {
   "cell_type": "markdown",
   "id": "diverse-conflict",
   "metadata": {},
   "source": [
    "### Data Cleanups `engine_Faults`"
   ]
  },
  {
   "cell_type": "code",
   "execution_count": null,
   "id": "unique-melbourne",
   "metadata": {},
   "outputs": [],
   "source": [
    "# Drop these columns: There are no data in these columns (Just `NaN`)\n",
    "engine_faults = engine_faults.drop(columns=[\"actionDescription\", \"faultValue\"])\n",
    "\n",
    "# Rename all columns to format \"column_name\"\n",
    "engine_faults = engine_faults.rename(columns={\n",
    "    \"RecordID\": \"record_id\",\n",
    "    \"ESS_Id\": \"ess_id\",\n",
    "    \"EventTimeStamp\": \"event_timestamp\",\n",
    "    \"eventDescription\": \"event_description\",\n",
    "    \"actionDescription\": \"action_description\",\n",
    "    \"ecuSoftwareVersion\": \"ecu_software_version\",\n",
    "    \"ecuSerialNumber\": \"ecu_serial_number\",\n",
    "    \"ecuModel\": \"ecu_model\",\n",
    "    \"ecuMake\": \"ecu_make\",\n",
    "    \"ecuSource\": \"ecu_source\",\n",
    "    \"activeTransitionCount\": \"active_transition_count\",\n",
    "    \"faultValue\": \"fault_value\",\n",
    "    \"EquipmentID\": \"equipment_id\",\n",
    "    \"MCTNumber\": \"mct_number\",\n",
    "    \"Latitude\": \"latitude\",\n",
    "    \"Longitude\": \"longitude\",\n",
    "    \"LocationTimeStamp\": \"location_timestamp\"\n",
    "})\n",
    "\n",
    "# Columns To String\n",
    "engine_faults[\"record_id\"] = engine_faults[\"record_id\"].astype(\"str\")\n",
    "engine_faults[\"ess_id\"] = engine_faults[\"ess_id\"].astype(\"str\")\n",
    "engine_faults[\"event_description\"] = engine_faults[\"event_description\"].astype(\"str\")\n",
    "engine_faults[\"ecu_software_version\"] = engine_faults[\"ecu_software_version\"].astype(\"str\")\n",
    "engine_faults[\"ecu_serial_number\"] = engine_faults[\"ecu_serial_number\"].astype(\"str\")\n",
    "engine_faults[\"ecu_model\"] = engine_faults[\"ecu_model\"].astype(\"str\")\n",
    "engine_faults[\"ecu_make\"] = engine_faults[\"ecu_make\"].astype(\"str\")\n",
    "engine_faults[\"ecu_source\"] = engine_faults[\"ecu_source\"].astype(\"str\")\n",
    "engine_faults[\"spn\"] = engine_faults[\"spn\"].astype(\"str\")\n",
    "engine_faults[\"fmi\"] = engine_faults[\"fmi\"].astype(\"str\")\n",
    "engine_faults[\"equipment_id\"] = engine_faults[\"equipment_id\"].astype(\"str\")\n",
    "engine_faults[\"mct_number\"] = engine_faults[\"mct_number\"].astype(\"str\")\n",
    "# engine_faults[\"latitude\"] = engine_faults[\"latitude\"].astype(\"str\")\n",
    "# engine_faults[\"longitude\"] = engine_faults[\"longitude\"].astype(\"str\")\n",
    "\n",
    "# Columns To Boolean\n",
    "engine_faults[\"active\"] = engine_faults[\"active\"].astype(\"bool\")\n",
    "\n",
    "# Columns To Integer\n",
    "engine_faults[\"active_transition_count\"] = engine_faults[\"active_transition_count\"].astype(\"int64\")\n",
    "\n",
    "# # Columns To Float\n",
    "# # We should make these into string instead\n",
    "engine_faults[\"latitude\"] = engine_faults[\"latitude\"].astype(\"float64\")\n",
    "engine_faults[\"longitude\"] = engine_faults[\"longitude\"].astype(\"float64\")\n",
    "\n",
    "# Columns To datetime\n",
    "engine_faults[\"event_timestamp\"] = engine_faults[\"event_timestamp\"].astype(\"datetime64\")\n",
    "engine_faults[\"location_timestamp\"] = engine_faults[\"location_timestamp\"].astype(\"datetime64\")"
   ]
  },
  {
   "cell_type": "code",
   "execution_count": null,
   "id": "neutral-sculpture",
   "metadata": {
    "scrolled": true
   },
   "outputs": [],
   "source": [
    "display(engine_faults.shape)\n",
    "display(engine_faults.head(5))\n",
    "display(engine_faults.info())"
   ]
  },
  {
   "cell_type": "markdown",
   "id": "considered-editing",
   "metadata": {},
   "source": [
    "## Looking at `diagnostics`"
   ]
  },
  {
   "cell_type": "code",
   "execution_count": null,
   "id": "final-disney",
   "metadata": {},
   "outputs": [],
   "source": [
    "display(diagnostics.shape)\n",
    "display(diagnostics.head(10))\n",
    "display(diagnostics.info())"
   ]
  },
  {
   "cell_type": "markdown",
   "id": "comprehensive-assessment",
   "metadata": {},
   "source": [
    "### Data Cleanups: `diagnostics`"
   ]
  },
  {
   "cell_type": "code",
   "execution_count": null,
   "id": "favorite-thought",
   "metadata": {},
   "outputs": [],
   "source": [
    "# Pivotting\n",
    "diagnostics = diagnostics.pivot(index = 'FaultId', columns='Name', values='Value').reset_index()\n",
    "display(diagnostics.shape)\n",
    "display(diagnostics.head(10))\n",
    "display(diagnostics.info())"
   ]
  },
  {
   "cell_type": "markdown",
   "id": "loving-philippines",
   "metadata": {},
   "source": []
  },
  {
   "cell_type": "markdown",
   "id": "configured-emergency",
   "metadata": {},
   "source": [
    "- Remove faults in the vicinity of service location\n",
    "- Remove faults where equipmentID has more than 5 characters"
   ]
  },
  {
   "cell_type": "markdown",
   "id": "established-ferry",
   "metadata": {},
   "source": [
    "## Looking at `Service Fault Codes_1_0_0_167.xlsx`"
   ]
  },
  {
   "cell_type": "code",
   "execution_count": null,
   "id": "quality-brown",
   "metadata": {},
   "outputs": [],
   "source": []
  }
 ],
 "metadata": {
  "kernelspec": {
   "display_name": "Python 3",
   "language": "python",
   "name": "python3"
  },
  "language_info": {
   "codemirror_mode": {
    "name": "ipython",
    "version": 3
   },
   "file_extension": ".py",
   "mimetype": "text/x-python",
   "name": "python",
   "nbconvert_exporter": "python",
   "pygments_lexer": "ipython3",
   "version": "3.8.8"
  },
  "toc": {
   "base_numbering": 1,
   "nav_menu": {},
   "number_sections": true,
   "sideBar": true,
   "skip_h1_title": true,
   "title_cell": "Table of Contents",
   "title_sidebar": "Contents",
   "toc_cell": true,
   "toc_position": {
    "height": "calc(100% - 180px)",
    "left": "10px",
    "top": "150px",
    "width": "201px"
   },
   "toc_section_display": true,
   "toc_window_display": true
  },
  "varInspector": {
   "cols": {
    "lenName": 16,
    "lenType": 16,
    "lenVar": 40
   },
   "kernels_config": {
    "python": {
     "delete_cmd_postfix": "",
     "delete_cmd_prefix": "del ",
     "library": "var_list.py",
     "varRefreshCmd": "print(var_dic_list())"
    },
    "r": {
     "delete_cmd_postfix": ") ",
     "delete_cmd_prefix": "rm(",
     "library": "var_list.r",
     "varRefreshCmd": "cat(var_dic_list()) "
    }
   },
   "types_to_exclude": [
    "module",
    "function",
    "builtin_function_or_method",
    "instance",
    "_Feature"
   ],
   "window_display": false
  }
 },
 "nbformat": 4,
 "nbformat_minor": 5
}
